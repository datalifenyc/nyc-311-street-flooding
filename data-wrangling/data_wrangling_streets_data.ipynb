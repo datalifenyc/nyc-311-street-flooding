{
 "cells": [
  {
   "cell_type": "markdown",
   "metadata": {},
   "source": [
    "# Clipping Streets and Exporting as a GeoJSON"
   ]
  },
  {
   "cell_type": "code",
   "execution_count": 1,
   "metadata": {},
   "outputs": [],
   "source": [
    "import pandas as pd\n",
    "import numpy as np\n",
    "import geopandas as gpd\n",
    "import fiona\n",
    "from fiona.crs import from_epsg"
   ]
  },
  {
   "cell_type": "code",
   "execution_count": 2,
   "metadata": {},
   "outputs": [
    {
     "data": {
      "text/html": [
       "<div>\n",
       "<style scoped>\n",
       "    .dataframe tbody tr th:only-of-type {\n",
       "        vertical-align: middle;\n",
       "    }\n",
       "\n",
       "    .dataframe tbody tr th {\n",
       "        vertical-align: top;\n",
       "    }\n",
       "\n",
       "    .dataframe thead th {\n",
       "        text-align: right;\n",
       "    }\n",
       "</style>\n",
       "<table border=\"1\" class=\"dataframe\">\n",
       "  <thead>\n",
       "    <tr style=\"text-align: right;\">\n",
       "      <th></th>\n",
       "      <th>boro_code</th>\n",
       "      <th>boro_name</th>\n",
       "      <th>shape_area</th>\n",
       "      <th>shape_leng</th>\n",
       "      <th>geometry</th>\n",
       "    </tr>\n",
       "  </thead>\n",
       "  <tbody>\n",
       "    <tr>\n",
       "      <th>0</th>\n",
       "      <td>1</td>\n",
       "      <td>Manhattan</td>\n",
       "      <td>636603803.361</td>\n",
       "      <td>361611.82395</td>\n",
       "      <td>MULTIPOLYGON (((981219.056 188655.316, 980940....</td>\n",
       "    </tr>\n",
       "    <tr>\n",
       "      <th>1</th>\n",
       "      <td>2</td>\n",
       "      <td>Bronx</td>\n",
       "      <td>1187244527.17</td>\n",
       "      <td>464650.051822</td>\n",
       "      <td>MULTIPOLYGON (((1012821.806 229228.265, 101278...</td>\n",
       "    </tr>\n",
       "    <tr>\n",
       "      <th>2</th>\n",
       "      <td>3</td>\n",
       "      <td>Brooklyn</td>\n",
       "      <td>1934091246.43</td>\n",
       "      <td>729592.941749</td>\n",
       "      <td>MULTIPOLYGON (((1021176.479 151374.797, 102100...</td>\n",
       "    </tr>\n",
       "    <tr>\n",
       "      <th>3</th>\n",
       "      <td>4</td>\n",
       "      <td>Queens</td>\n",
       "      <td>3044042300.55</td>\n",
       "      <td>900087.667215</td>\n",
       "      <td>MULTIPOLYGON (((1032452.015 154469.237, 103245...</td>\n",
       "    </tr>\n",
       "    <tr>\n",
       "      <th>4</th>\n",
       "      <td>5</td>\n",
       "      <td>Staten Island</td>\n",
       "      <td>1623757282.78</td>\n",
       "      <td>325956.009</td>\n",
       "      <td>MULTIPOLYGON (((970217.022 145643.332, 970227....</td>\n",
       "    </tr>\n",
       "  </tbody>\n",
       "</table>\n",
       "</div>"
      ],
      "text/plain": [
       "  boro_code      boro_name     shape_area     shape_leng  \\\n",
       "0         1      Manhattan  636603803.361   361611.82395   \n",
       "1         2          Bronx  1187244527.17  464650.051822   \n",
       "2         3       Brooklyn  1934091246.43  729592.941749   \n",
       "3         4         Queens  3044042300.55  900087.667215   \n",
       "4         5  Staten Island  1623757282.78     325956.009   \n",
       "\n",
       "                                            geometry  \n",
       "0  MULTIPOLYGON (((981219.056 188655.316, 980940....  \n",
       "1  MULTIPOLYGON (((1012821.806 229228.265, 101278...  \n",
       "2  MULTIPOLYGON (((1021176.479 151374.797, 102100...  \n",
       "3  MULTIPOLYGON (((1032452.015 154469.237, 103245...  \n",
       "4  MULTIPOLYGON (((970217.022 145643.332, 970227....  "
      ]
     },
     "execution_count": 2,
     "metadata": {},
     "output_type": "execute_result"
    }
   ],
   "source": [
    "url = 'https://data.cityofnewyork.us/api/geospatial/tqmj-j8zm?method=export&format=GeoJSON'\n",
    "boros = gpd.read_file(url)\n",
    "\n",
    "boros = boros.to_crs(epsg=2263)\n",
    "boros.head()"
   ]
  },
  {
   "cell_type": "code",
   "execution_count": 3,
   "metadata": {},
   "outputs": [
    {
     "data": {
      "text/plain": [
       "<AxesSubplot:>"
      ]
     },
     "execution_count": 3,
     "metadata": {},
     "output_type": "execute_result"
    },
    {
     "data": {
      "image/png": "[encoded data removed]",
      "text/plain": [
       "<Figure size 432x288 with 1 Axes>"
      ]
     },
     "metadata": {
      "needs_background": "light"
     },
     "output_type": "display_data"
    }
   ],
   "source": [
    "boros.plot()"
   ]
  },
  {
   "cell_type": "code",
   "execution_count": 4,
   "metadata": {
    "scrolled": false
   },
   "outputs": [
    {
     "data": {
      "text/html": [
       "<div>\n",
       "<style scoped>\n",
       "    .dataframe tbody tr th:only-of-type {\n",
       "        vertical-align: middle;\n",
       "    }\n",
       "\n",
       "    .dataframe tbody tr th {\n",
       "        vertical-align: top;\n",
       "    }\n",
       "\n",
       "    .dataframe thead th {\n",
       "        text-align: right;\n",
       "    }\n",
       "</style>\n",
       "<table border=\"1\" class=\"dataframe\">\n",
       "  <thead>\n",
       "    <tr style=\"text-align: right;\">\n",
       "      <th></th>\n",
       "      <th>rw_type</th>\n",
       "      <th>l_low_hn</th>\n",
       "      <th>pre_direct</th>\n",
       "      <th>st_width</th>\n",
       "      <th>r_zip</th>\n",
       "      <th>r_low_hn</th>\n",
       "      <th>bike_lane</th>\n",
       "      <th>post_type</th>\n",
       "      <th>r_blkfc_id</th>\n",
       "      <th>bike_trafd</th>\n",
       "      <th>...</th>\n",
       "      <th>snow_pri</th>\n",
       "      <th>borocode</th>\n",
       "      <th>trafdir</th>\n",
       "      <th>pre_modifi</th>\n",
       "      <th>st_label</th>\n",
       "      <th>physicalid</th>\n",
       "      <th>st_name</th>\n",
       "      <th>created</th>\n",
       "      <th>l_high_hn</th>\n",
       "      <th>geometry</th>\n",
       "    </tr>\n",
       "  </thead>\n",
       "  <tbody>\n",
       "    <tr>\n",
       "      <th>0</th>\n",
       "      <td>6</td>\n",
       "      <td>None</td>\n",
       "      <td>None</td>\n",
       "      <td>0</td>\n",
       "      <td>10458</td>\n",
       "      <td>None</td>\n",
       "      <td>None</td>\n",
       "      <td>TRL</td>\n",
       "      <td>0</td>\n",
       "      <td>None</td>\n",
       "      <td>...</td>\n",
       "      <td>None</td>\n",
       "      <td>2</td>\n",
       "      <td>NV</td>\n",
       "      <td>None</td>\n",
       "      <td>MITSUBISHI WILD WETLAND TRL</td>\n",
       "      <td>164809</td>\n",
       "      <td>MITSUBISHI WILD WETLAND</td>\n",
       "      <td>2014-08-19T00:00:00</td>\n",
       "      <td>None</td>\n",
       "      <td>MULTILINESTRING ((1017825.856 253319.853, 1017...</td>\n",
       "    </tr>\n",
       "    <tr>\n",
       "      <th>1</th>\n",
       "      <td>1</td>\n",
       "      <td>215-001</td>\n",
       "      <td>None</td>\n",
       "      <td>35</td>\n",
       "      <td>11360</td>\n",
       "      <td>215-000</td>\n",
       "      <td>None</td>\n",
       "      <td>AVE</td>\n",
       "      <td>112262650</td>\n",
       "      <td>None</td>\n",
       "      <td>...</td>\n",
       "      <td>S</td>\n",
       "      <td>4</td>\n",
       "      <td>TW</td>\n",
       "      <td>None</td>\n",
       "      <td>28 AVE</td>\n",
       "      <td>6110</td>\n",
       "      <td>28</td>\n",
       "      <td>2007-11-29T00:00:00</td>\n",
       "      <td>215-027</td>\n",
       "      <td>MULTILINESTRING ((1047146.080 222733.432, 1047...</td>\n",
       "    </tr>\n",
       "    <tr>\n",
       "      <th>2</th>\n",
       "      <td>1</td>\n",
       "      <td>5631</td>\n",
       "      <td>None</td>\n",
       "      <td>42</td>\n",
       "      <td>10471</td>\n",
       "      <td>5602</td>\n",
       "      <td>None</td>\n",
       "      <td>AVE</td>\n",
       "      <td>1522601877</td>\n",
       "      <td>None</td>\n",
       "      <td>...</td>\n",
       "      <td>H</td>\n",
       "      <td>2</td>\n",
       "      <td>TW</td>\n",
       "      <td>None</td>\n",
       "      <td>ARLINGTON AVE</td>\n",
       "      <td>61140</td>\n",
       "      <td>ARLINGTON</td>\n",
       "      <td>2007-11-29T00:00:00</td>\n",
       "      <td>5699</td>\n",
       "      <td>MULTILINESTRING ((1009926.638 269075.549, 1010...</td>\n",
       "    </tr>\n",
       "    <tr>\n",
       "      <th>3</th>\n",
       "      <td>1</td>\n",
       "      <td>317</td>\n",
       "      <td>None</td>\n",
       "      <td>50</td>\n",
       "      <td>11217</td>\n",
       "      <td>316</td>\n",
       "      <td>2</td>\n",
       "      <td>ST</td>\n",
       "      <td>1922612977</td>\n",
       "      <td>TW</td>\n",
       "      <td>...</td>\n",
       "      <td>C</td>\n",
       "      <td>3</td>\n",
       "      <td>TW</td>\n",
       "      <td>None</td>\n",
       "      <td>SCHERMERHORN ST</td>\n",
       "      <td>145494</td>\n",
       "      <td>SCHERMERHORN</td>\n",
       "      <td>2007-11-29T00:00:00</td>\n",
       "      <td>399</td>\n",
       "      <td>MULTILINESTRING ((989292.818 189689.736, 98964...</td>\n",
       "    </tr>\n",
       "    <tr>\n",
       "      <th>4</th>\n",
       "      <td>1</td>\n",
       "      <td>120-011</td>\n",
       "      <td>None</td>\n",
       "      <td>40</td>\n",
       "      <td>11415</td>\n",
       "      <td>0</td>\n",
       "      <td>None</td>\n",
       "      <td>BLVD</td>\n",
       "      <td>92269521</td>\n",
       "      <td>None</td>\n",
       "      <td>...</td>\n",
       "      <td>C</td>\n",
       "      <td>4</td>\n",
       "      <td>TF</td>\n",
       "      <td>None</td>\n",
       "      <td>QUEENS BLVD</td>\n",
       "      <td>12438</td>\n",
       "      <td>QUEENS</td>\n",
       "      <td>2007-11-29T00:00:00</td>\n",
       "      <td>120-011</td>\n",
       "      <td>MULTILINESTRING ((1031371.427 199453.863, 1031...</td>\n",
       "    </tr>\n",
       "  </tbody>\n",
       "</table>\n",
       "<p>5 rows × 32 columns</p>\n",
       "</div>"
      ],
      "text/plain": [
       "  rw_type l_low_hn pre_direct st_width  r_zip r_low_hn bike_lane post_type  \\\n",
       "0       6     None       None        0  10458     None      None       TRL   \n",
       "1       1  215-001       None       35  11360  215-000      None       AVE   \n",
       "2       1     5631       None       42  10471     5602      None       AVE   \n",
       "3       1      317       None       50  11217      316         2        ST   \n",
       "4       1  120-011       None       40  11415        0      None      BLVD   \n",
       "\n",
       "   r_blkfc_id bike_trafd  ... snow_pri borocode trafdir pre_modifi  \\\n",
       "0           0       None  ...     None        2      NV       None   \n",
       "1   112262650       None  ...        S        4      TW       None   \n",
       "2  1522601877       None  ...        H        2      TW       None   \n",
       "3  1922612977         TW  ...        C        3      TW       None   \n",
       "4    92269521       None  ...        C        4      TF       None   \n",
       "\n",
       "                      st_label physicalid                  st_name  \\\n",
       "0  MITSUBISHI WILD WETLAND TRL     164809  MITSUBISHI WILD WETLAND   \n",
       "1                       28 AVE       6110                       28   \n",
       "2                ARLINGTON AVE      61140                ARLINGTON   \n",
       "3              SCHERMERHORN ST     145494             SCHERMERHORN   \n",
       "4                  QUEENS BLVD      12438                   QUEENS   \n",
       "\n",
       "               created l_high_hn  \\\n",
       "0  2014-08-19T00:00:00      None   \n",
       "1  2007-11-29T00:00:00   215-027   \n",
       "2  2007-11-29T00:00:00      5699   \n",
       "3  2007-11-29T00:00:00       399   \n",
       "4  2007-11-29T00:00:00   120-011   \n",
       "\n",
       "                                            geometry  \n",
       "0  MULTILINESTRING ((1017825.856 253319.853, 1017...  \n",
       "1  MULTILINESTRING ((1047146.080 222733.432, 1047...  \n",
       "2  MULTILINESTRING ((1009926.638 269075.549, 1010...  \n",
       "3  MULTILINESTRING ((989292.818 189689.736, 98964...  \n",
       "4  MULTILINESTRING ((1031371.427 199453.863, 1031...  \n",
       "\n",
       "[5 rows x 32 columns]"
      ]
     },
     "execution_count": 4,
     "metadata": {},
     "output_type": "execute_result"
    }
   ],
   "source": [
    "url = 'https://data.cityofnewyork.us/api/geospatial/exjm-f27b?method=export&format=GeoJSON'\n",
    "streets = gpd.read_file(url)\n",
    "\n",
    "streets = streets.to_crs(epsg=2263)\n",
    "streets.head()"
   ]
  },
  {
   "cell_type": "code",
   "execution_count": 5,
   "metadata": {},
   "outputs": [
    {
     "data": {
      "text/plain": [
       "(120037, 32)"
      ]
     },
     "execution_count": 5,
     "metadata": {},
     "output_type": "execute_result"
    }
   ],
   "source": [
    "streets.shape"
   ]
  },
  {
   "cell_type": "code",
   "execution_count": 6,
   "metadata": {},
   "outputs": [
    {
     "data": {
      "text/plain": [
       "<AxesSubplot:>"
      ]
     },
     "execution_count": 6,
     "metadata": {},
     "output_type": "execute_result"
    },
    {
     "data": {
      "image/png": "[encoded data removed]",
      "text/plain": [
       "<Figure size 432x288 with 1 Axes>"
      ]
     },
     "metadata": {
      "needs_background": "light"
     },
     "output_type": "display_data"
    }
   ],
   "source": [
    "streets.plot()"
   ]
  },
  {
   "cell_type": "code",
   "execution_count": 7,
   "metadata": {},
   "outputs": [
    {
     "name": "stdout",
     "output_type": "stream",
     "text": [
      "<class 'geopandas.geodataframe.GeoDataFrame'>\n",
      "RangeIndex: 120037 entries, 0 to 120036\n",
      "Data columns (total 32 columns):\n",
      " #   Column      Non-Null Count   Dtype   \n",
      "---  ------      --------------   -----   \n",
      " 0   rw_type     120037 non-null  object  \n",
      " 1   l_low_hn    84251 non-null   object  \n",
      " 2   pre_direct  9774 non-null    object  \n",
      " 3   st_width    120037 non-null  object  \n",
      " 4   r_zip       118740 non-null  object  \n",
      " 5   r_low_hn    84251 non-null   object  \n",
      " 6   bike_lane   14549 non-null   object  \n",
      " 7   post_type   101959 non-null  object  \n",
      " 8   r_blkfc_id  120037 non-null  object  \n",
      " 9   bike_trafd  14502 non-null   object  \n",
      " 10  frm_lvl_co  120037 non-null  object  \n",
      " 11  post_modif  611 non-null     object  \n",
      " 12  pre_type    1505 non-null    object  \n",
      " 13  full_stree  120037 non-null  object  \n",
      " 14  l_blkfc_id  120037 non-null  object  \n",
      " 15  shape_leng  120037 non-null  object  \n",
      " 16  to_lvl_co   120037 non-null  object  \n",
      " 17  modified    119792 non-null  object  \n",
      " 18  status      120037 non-null  object  \n",
      " 19  post_direc  1837 non-null    object  \n",
      " 20  r_high_hn   84251 non-null   object  \n",
      " 21  l_zip       118665 non-null  object  \n",
      " 22  snow_pri    109701 non-null  object  \n",
      " 23  borocode    120037 non-null  object  \n",
      " 24  trafdir     120035 non-null  object  \n",
      " 25  pre_modifi  140 non-null     object  \n",
      " 26  st_label    120037 non-null  object  \n",
      " 27  physicalid  120037 non-null  object  \n",
      " 28  st_name     120037 non-null  object  \n",
      " 29  created     120037 non-null  object  \n",
      " 30  l_high_hn   84251 non-null   object  \n",
      " 31  geometry    120037 non-null  geometry\n",
      "dtypes: geometry(1), object(31)\n",
      "memory usage: 29.3+ MB\n"
     ]
    }
   ],
   "source": [
    "streets.info()"
   ]
  },
  {
   "cell_type": "code",
   "execution_count": 8,
   "metadata": {},
   "outputs": [],
   "source": [
    "streets['rw_type_name'] = streets['rw_type'].map(\n",
    "    \n",
    "{\n",
    "'1':'Street',\n",
    "'2':'Highway',\n",
    "'3':'Bridge',\n",
    "'4':'Tunnel',\n",
    "'5':'Boardwalk',\n",
    "'6':'Path/Trail',\n",
    "'7':'StepStreet',\n",
    "'8':'Driveway',\n",
    "'9':'Ramp',\n",
    "'10':'Alley',\n",
    "'11':'Unknown',\n",
    "'12':'Non-Physical Street Segment',\n",
    "'13':'U Turn',\n",
    "'14':'Ferry Route'\n",
    "})"
   ]
  },
  {
   "cell_type": "code",
   "execution_count": 9,
   "metadata": {},
   "outputs": [
    {
     "data": {
      "text/plain": [
       "Street                         99468\n",
       "Path/Trail                      5048\n",
       "Highway                         4173\n",
       "Alley                           3837\n",
       "Ramp                            3577\n",
       "Bridge                          1943\n",
       "Driveway                         779\n",
       "Ferry Route                      422\n",
       "U Turn                           324\n",
       "StepStreet                       188\n",
       "Tunnel                           174\n",
       "Boardwalk                        102\n",
       "Non-Physical Street Segment        2\n",
       "Name: rw_type_name, dtype: int64"
      ]
     },
     "execution_count": 9,
     "metadata": {},
     "output_type": "execute_result"
    }
   ],
   "source": [
    "streets['rw_type_name'].value_counts()"
   ]
  },
  {
   "cell_type": "code",
   "execution_count": 10,
   "metadata": {},
   "outputs": [
    {
     "data": {
      "text/html": [
       "<div>\n",
       "<style scoped>\n",
       "    .dataframe tbody tr th:only-of-type {\n",
       "        vertical-align: middle;\n",
       "    }\n",
       "\n",
       "    .dataframe tbody tr th {\n",
       "        vertical-align: top;\n",
       "    }\n",
       "\n",
       "    .dataframe thead th {\n",
       "        text-align: right;\n",
       "    }\n",
       "</style>\n",
       "<table border=\"1\" class=\"dataframe\">\n",
       "  <thead>\n",
       "    <tr style=\"text-align: right;\">\n",
       "      <th></th>\n",
       "      <th>rw_type</th>\n",
       "      <th>l_low_hn</th>\n",
       "      <th>pre_direct</th>\n",
       "      <th>st_width</th>\n",
       "      <th>r_zip</th>\n",
       "      <th>r_low_hn</th>\n",
       "      <th>bike_lane</th>\n",
       "      <th>post_type</th>\n",
       "      <th>r_blkfc_id</th>\n",
       "      <th>bike_trafd</th>\n",
       "      <th>...</th>\n",
       "      <th>borocode</th>\n",
       "      <th>trafdir</th>\n",
       "      <th>pre_modifi</th>\n",
       "      <th>st_label</th>\n",
       "      <th>physicalid</th>\n",
       "      <th>st_name</th>\n",
       "      <th>created</th>\n",
       "      <th>l_high_hn</th>\n",
       "      <th>geometry</th>\n",
       "      <th>rw_type_name</th>\n",
       "    </tr>\n",
       "  </thead>\n",
       "  <tbody>\n",
       "    <tr>\n",
       "      <th>1</th>\n",
       "      <td>1</td>\n",
       "      <td>215-001</td>\n",
       "      <td>None</td>\n",
       "      <td>35</td>\n",
       "      <td>11360</td>\n",
       "      <td>215-000</td>\n",
       "      <td>None</td>\n",
       "      <td>AVE</td>\n",
       "      <td>112262650</td>\n",
       "      <td>None</td>\n",
       "      <td>...</td>\n",
       "      <td>4</td>\n",
       "      <td>TW</td>\n",
       "      <td>None</td>\n",
       "      <td>28 AVE</td>\n",
       "      <td>6110</td>\n",
       "      <td>28</td>\n",
       "      <td>2007-11-29T00:00:00</td>\n",
       "      <td>215-027</td>\n",
       "      <td>MULTILINESTRING ((1047146.080 222733.432, 1047...</td>\n",
       "      <td>Street</td>\n",
       "    </tr>\n",
       "    <tr>\n",
       "      <th>2</th>\n",
       "      <td>1</td>\n",
       "      <td>5631</td>\n",
       "      <td>None</td>\n",
       "      <td>42</td>\n",
       "      <td>10471</td>\n",
       "      <td>5602</td>\n",
       "      <td>None</td>\n",
       "      <td>AVE</td>\n",
       "      <td>1522601877</td>\n",
       "      <td>None</td>\n",
       "      <td>...</td>\n",
       "      <td>2</td>\n",
       "      <td>TW</td>\n",
       "      <td>None</td>\n",
       "      <td>ARLINGTON AVE</td>\n",
       "      <td>61140</td>\n",
       "      <td>ARLINGTON</td>\n",
       "      <td>2007-11-29T00:00:00</td>\n",
       "      <td>5699</td>\n",
       "      <td>MULTILINESTRING ((1009926.638 269075.549, 1010...</td>\n",
       "      <td>Street</td>\n",
       "    </tr>\n",
       "    <tr>\n",
       "      <th>3</th>\n",
       "      <td>1</td>\n",
       "      <td>317</td>\n",
       "      <td>None</td>\n",
       "      <td>50</td>\n",
       "      <td>11217</td>\n",
       "      <td>316</td>\n",
       "      <td>2</td>\n",
       "      <td>ST</td>\n",
       "      <td>1922612977</td>\n",
       "      <td>TW</td>\n",
       "      <td>...</td>\n",
       "      <td>3</td>\n",
       "      <td>TW</td>\n",
       "      <td>None</td>\n",
       "      <td>SCHERMERHORN ST</td>\n",
       "      <td>145494</td>\n",
       "      <td>SCHERMERHORN</td>\n",
       "      <td>2007-11-29T00:00:00</td>\n",
       "      <td>399</td>\n",
       "      <td>MULTILINESTRING ((989292.818 189689.736, 98964...</td>\n",
       "      <td>Street</td>\n",
       "    </tr>\n",
       "    <tr>\n",
       "      <th>4</th>\n",
       "      <td>1</td>\n",
       "      <td>120-011</td>\n",
       "      <td>None</td>\n",
       "      <td>40</td>\n",
       "      <td>11415</td>\n",
       "      <td>0</td>\n",
       "      <td>None</td>\n",
       "      <td>BLVD</td>\n",
       "      <td>92269521</td>\n",
       "      <td>None</td>\n",
       "      <td>...</td>\n",
       "      <td>4</td>\n",
       "      <td>TF</td>\n",
       "      <td>None</td>\n",
       "      <td>QUEENS BLVD</td>\n",
       "      <td>12438</td>\n",
       "      <td>QUEENS</td>\n",
       "      <td>2007-11-29T00:00:00</td>\n",
       "      <td>120-011</td>\n",
       "      <td>MULTILINESTRING ((1031371.427 199453.863, 1031...</td>\n",
       "      <td>Street</td>\n",
       "    </tr>\n",
       "    <tr>\n",
       "      <th>5</th>\n",
       "      <td>1</td>\n",
       "      <td>528</td>\n",
       "      <td>None</td>\n",
       "      <td>36</td>\n",
       "      <td>10308</td>\n",
       "      <td>555</td>\n",
       "      <td>None</td>\n",
       "      <td>RD</td>\n",
       "      <td>1722601588</td>\n",
       "      <td>None</td>\n",
       "      <td>...</td>\n",
       "      <td>5</td>\n",
       "      <td>TW</td>\n",
       "      <td>None</td>\n",
       "      <td>ARTHUR KILL RD</td>\n",
       "      <td>15432</td>\n",
       "      <td>ARTHUR KIL</td>\n",
       "      <td>2007-11-29T00:00:00</td>\n",
       "      <td>554</td>\n",
       "      <td>MULTILINESTRING ((940277.458 144141.538, 94002...</td>\n",
       "      <td>Street</td>\n",
       "    </tr>\n",
       "  </tbody>\n",
       "</table>\n",
       "<p>5 rows × 33 columns</p>\n",
       "</div>"
      ],
      "text/plain": [
       "  rw_type l_low_hn pre_direct st_width  r_zip r_low_hn bike_lane post_type  \\\n",
       "1       1  215-001       None       35  11360  215-000      None       AVE   \n",
       "2       1     5631       None       42  10471     5602      None       AVE   \n",
       "3       1      317       None       50  11217      316         2        ST   \n",
       "4       1  120-011       None       40  11415        0      None      BLVD   \n",
       "5       1      528       None       36  10308      555      None        RD   \n",
       "\n",
       "   r_blkfc_id bike_trafd  ... borocode trafdir pre_modifi         st_label  \\\n",
       "1   112262650       None  ...        4      TW       None           28 AVE   \n",
       "2  1522601877       None  ...        2      TW       None    ARLINGTON AVE   \n",
       "3  1922612977         TW  ...        3      TW       None  SCHERMERHORN ST   \n",
       "4    92269521       None  ...        4      TF       None      QUEENS BLVD   \n",
       "5  1722601588       None  ...        5      TW       None   ARTHUR KILL RD   \n",
       "\n",
       "  physicalid       st_name              created l_high_hn  \\\n",
       "1       6110            28  2007-11-29T00:00:00   215-027   \n",
       "2      61140     ARLINGTON  2007-11-29T00:00:00      5699   \n",
       "3     145494  SCHERMERHORN  2007-11-29T00:00:00       399   \n",
       "4      12438        QUEENS  2007-11-29T00:00:00   120-011   \n",
       "5      15432    ARTHUR KIL  2007-11-29T00:00:00       554   \n",
       "\n",
       "                                            geometry rw_type_name  \n",
       "1  MULTILINESTRING ((1047146.080 222733.432, 1047...       Street  \n",
       "2  MULTILINESTRING ((1009926.638 269075.549, 1010...       Street  \n",
       "3  MULTILINESTRING ((989292.818 189689.736, 98964...       Street  \n",
       "4  MULTILINESTRING ((1031371.427 199453.863, 1031...       Street  \n",
       "5  MULTILINESTRING ((940277.458 144141.538, 94002...       Street  \n",
       "\n",
       "[5 rows x 33 columns]"
      ]
     },
     "execution_count": 10,
     "metadata": {},
     "output_type": "execute_result"
    }
   ],
   "source": [
    "streets = streets.loc[streets['rw_type'].isin(['1'])]\n",
    "\n",
    "streets.head()"
   ]
  },
  {
   "cell_type": "code",
   "execution_count": 11,
   "metadata": {},
   "outputs": [
    {
     "data": {
      "text/plain": [
       "Street    99468\n",
       "Name: rw_type_name, dtype: int64"
      ]
     },
     "execution_count": 11,
     "metadata": {},
     "output_type": "execute_result"
    }
   ],
   "source": [
    "streets['rw_type_name'].value_counts()"
   ]
  },
  {
   "cell_type": "code",
   "execution_count": 15,
   "metadata": {},
   "outputs": [
    {
     "data": {
      "text/plain": [
       "<AxesSubplot:>"
      ]
     },
     "execution_count": 15,
     "metadata": {},
     "output_type": "execute_result"
    },
    {
     "data": {
      "image/png": "[encoded data removed]",
      "text/plain": [
       "<Figure size 432x288 with 1 Axes>"
      ]
     },
     "metadata": {
      "needs_background": "light"
     },
     "output_type": "display_data"
    }
   ],
   "source": [
    "streets.plot()"
   ]
  },
  {
   "cell_type": "code",
   "execution_count": 16,
   "metadata": {},
   "outputs": [
    {
     "data": {
      "text/plain": [
       "MultiLineString    99468\n",
       "dtype: int64"
      ]
     },
     "execution_count": 16,
     "metadata": {},
     "output_type": "execute_result"
    }
   ],
   "source": [
    "streets.geom_type.value_counts()"
   ]
  },
  {
   "cell_type": "code",
   "execution_count": 17,
   "metadata": {},
   "outputs": [],
   "source": [
    "# clipping the streets that only fall within the boro shapes\n",
    "streets_clipped = gpd.clip(streets, boros)"
   ]
  },
  {
   "cell_type": "code",
   "execution_count": 18,
   "metadata": {},
   "outputs": [
    {
     "data": {
      "text/plain": [
       "LineString            99373\n",
       "MultiLineString          42\n",
       "GeometryCollection       41\n",
       "Point                     6\n",
       "dtype: int64"
      ]
     },
     "execution_count": 18,
     "metadata": {},
     "output_type": "execute_result"
    }
   ],
   "source": [
    "streets_clipped.geom_type.value_counts()"
   ]
  },
  {
   "cell_type": "code",
   "execution_count": 19,
   "metadata": {},
   "outputs": [],
   "source": [
    "streets_clipped = streets_clipped.loc[streets_clipped.geom_type == 'LineString']"
   ]
  },
  {
   "cell_type": "code",
   "execution_count": 20,
   "metadata": {},
   "outputs": [
    {
     "data": {
      "text/plain": [
       "LineString    99373\n",
       "dtype: int64"
      ]
     },
     "execution_count": 20,
     "metadata": {},
     "output_type": "execute_result"
    }
   ],
   "source": [
    "streets_clipped.geom_type.value_counts()"
   ]
  },
  {
   "cell_type": "code",
   "execution_count": 21,
   "metadata": {},
   "outputs": [
    {
     "data": {
      "text/plain": [
       "Index(['rw_type', 'l_low_hn', 'pre_direct', 'st_width', 'r_zip', 'r_low_hn',\n",
       "       'bike_lane', 'post_type', 'r_blkfc_id', 'bike_trafd', 'frm_lvl_co',\n",
       "       'post_modif', 'pre_type', 'full_stree', 'l_blkfc_id', 'shape_leng',\n",
       "       'to_lvl_co', 'modified', 'status', 'post_direc', 'r_high_hn', 'l_zip',\n",
       "       'snow_pri', 'borocode', 'trafdir', 'pre_modifi', 'st_label',\n",
       "       'physicalid', 'st_name', 'created', 'l_high_hn', 'geometry',\n",
       "       'rw_type_name'],\n",
       "      dtype='object')"
      ]
     },
     "execution_count": 21,
     "metadata": {},
     "output_type": "execute_result"
    }
   ],
   "source": [
    "# printing the columns of our dataframe\n",
    "streets_clipped.columns"
   ]
  },
  {
   "cell_type": "code",
   "execution_count": 22,
   "metadata": {},
   "outputs": [
    {
     "data": {
      "text/html": [
       "<div>\n",
       "<style scoped>\n",
       "    .dataframe tbody tr th:only-of-type {\n",
       "        vertical-align: middle;\n",
       "    }\n",
       "\n",
       "    .dataframe tbody tr th {\n",
       "        vertical-align: top;\n",
       "    }\n",
       "\n",
       "    .dataframe thead th {\n",
       "        text-align: right;\n",
       "    }\n",
       "</style>\n",
       "<table border=\"1\" class=\"dataframe\">\n",
       "  <thead>\n",
       "    <tr style=\"text-align: right;\">\n",
       "      <th></th>\n",
       "      <th>shape_leng</th>\n",
       "      <th>to_lvl_co</th>\n",
       "      <th>modified</th>\n",
       "      <th>status</th>\n",
       "      <th>post_direc</th>\n",
       "      <th>r_high_hn</th>\n",
       "      <th>l_zip</th>\n",
       "      <th>snow_pri</th>\n",
       "      <th>borocode</th>\n",
       "      <th>trafdir</th>\n",
       "      <th>pre_modifi</th>\n",
       "      <th>st_label</th>\n",
       "      <th>physicalid</th>\n",
       "      <th>st_name</th>\n",
       "      <th>created</th>\n",
       "      <th>l_high_hn</th>\n",
       "      <th>geometry</th>\n",
       "      <th>rw_type_name</th>\n",
       "    </tr>\n",
       "  </thead>\n",
       "  <tbody>\n",
       "    <tr>\n",
       "      <th>1</th>\n",
       "      <td>258.859740425</td>\n",
       "      <td>13</td>\n",
       "      <td>2020-08-28T00:00:00</td>\n",
       "      <td>2</td>\n",
       "      <td>None</td>\n",
       "      <td>215-026</td>\n",
       "      <td>11360</td>\n",
       "      <td>S</td>\n",
       "      <td>4</td>\n",
       "      <td>TW</td>\n",
       "      <td>None</td>\n",
       "      <td>28 AVE</td>\n",
       "      <td>6110</td>\n",
       "      <td>28</td>\n",
       "      <td>2007-11-29T00:00:00</td>\n",
       "      <td>215-027</td>\n",
       "      <td>LINESTRING (1047146.080 222733.432, 1047385.93...</td>\n",
       "      <td>Street</td>\n",
       "    </tr>\n",
       "    <tr>\n",
       "      <th>2</th>\n",
       "      <td>454.932921708</td>\n",
       "      <td>13</td>\n",
       "      <td>2020-08-28T00:00:00</td>\n",
       "      <td>2</td>\n",
       "      <td>None</td>\n",
       "      <td>5698</td>\n",
       "      <td>10471</td>\n",
       "      <td>H</td>\n",
       "      <td>2</td>\n",
       "      <td>TW</td>\n",
       "      <td>None</td>\n",
       "      <td>ARLINGTON AVE</td>\n",
       "      <td>61140</td>\n",
       "      <td>ARLINGTON</td>\n",
       "      <td>2007-11-29T00:00:00</td>\n",
       "      <td>5699</td>\n",
       "      <td>LINESTRING (1009926.638 269075.549, 1010033.71...</td>\n",
       "      <td>Street</td>\n",
       "    </tr>\n",
       "    <tr>\n",
       "      <th>3</th>\n",
       "      <td>609.424374552</td>\n",
       "      <td>13</td>\n",
       "      <td>2019-04-15T00:00:00</td>\n",
       "      <td>2</td>\n",
       "      <td>None</td>\n",
       "      <td>360</td>\n",
       "      <td>11217</td>\n",
       "      <td>C</td>\n",
       "      <td>3</td>\n",
       "      <td>TW</td>\n",
       "      <td>None</td>\n",
       "      <td>SCHERMERHORN ST</td>\n",
       "      <td>145494</td>\n",
       "      <td>SCHERMERHORN</td>\n",
       "      <td>2007-11-29T00:00:00</td>\n",
       "      <td>399</td>\n",
       "      <td>LINESTRING (989292.818 189689.736, 989648.842 ...</td>\n",
       "      <td>Street</td>\n",
       "    </tr>\n",
       "    <tr>\n",
       "      <th>4</th>\n",
       "      <td>47.3992280891</td>\n",
       "      <td>13</td>\n",
       "      <td>2019-04-15T00:00:00</td>\n",
       "      <td>2</td>\n",
       "      <td>None</td>\n",
       "      <td>0</td>\n",
       "      <td>11415</td>\n",
       "      <td>C</td>\n",
       "      <td>4</td>\n",
       "      <td>TF</td>\n",
       "      <td>None</td>\n",
       "      <td>QUEENS BLVD</td>\n",
       "      <td>12438</td>\n",
       "      <td>QUEENS</td>\n",
       "      <td>2007-11-29T00:00:00</td>\n",
       "      <td>120-011</td>\n",
       "      <td>LINESTRING (1031371.427 199453.863, 1031412.58...</td>\n",
       "      <td>Street</td>\n",
       "    </tr>\n",
       "    <tr>\n",
       "      <th>5</th>\n",
       "      <td>268.22875069</td>\n",
       "      <td>13</td>\n",
       "      <td>2019-04-15T00:00:00</td>\n",
       "      <td>2</td>\n",
       "      <td>None</td>\n",
       "      <td>555</td>\n",
       "      <td>10308</td>\n",
       "      <td>C</td>\n",
       "      <td>5</td>\n",
       "      <td>TW</td>\n",
       "      <td>None</td>\n",
       "      <td>ARTHUR KILL RD</td>\n",
       "      <td>15432</td>\n",
       "      <td>ARTHUR KIL</td>\n",
       "      <td>2007-11-29T00:00:00</td>\n",
       "      <td>554</td>\n",
       "      <td>LINESTRING (940277.458 144141.538, 940027.193 ...</td>\n",
       "      <td>Street</td>\n",
       "    </tr>\n",
       "  </tbody>\n",
       "</table>\n",
       "</div>"
      ],
      "text/plain": [
       "      shape_leng to_lvl_co             modified status post_direc r_high_hn  \\\n",
       "1  258.859740425        13  2020-08-28T00:00:00      2       None   215-026   \n",
       "2  454.932921708        13  2020-08-28T00:00:00      2       None      5698   \n",
       "3  609.424374552        13  2019-04-15T00:00:00      2       None       360   \n",
       "4  47.3992280891        13  2019-04-15T00:00:00      2       None         0   \n",
       "5   268.22875069        13  2019-04-15T00:00:00      2       None       555   \n",
       "\n",
       "   l_zip snow_pri borocode trafdir pre_modifi         st_label physicalid  \\\n",
       "1  11360        S        4      TW       None           28 AVE       6110   \n",
       "2  10471        H        2      TW       None    ARLINGTON AVE      61140   \n",
       "3  11217        C        3      TW       None  SCHERMERHORN ST     145494   \n",
       "4  11415        C        4      TF       None      QUEENS BLVD      12438   \n",
       "5  10308        C        5      TW       None   ARTHUR KILL RD      15432   \n",
       "\n",
       "        st_name              created l_high_hn  \\\n",
       "1            28  2007-11-29T00:00:00   215-027   \n",
       "2     ARLINGTON  2007-11-29T00:00:00      5699   \n",
       "3  SCHERMERHORN  2007-11-29T00:00:00       399   \n",
       "4        QUEENS  2007-11-29T00:00:00   120-011   \n",
       "5    ARTHUR KIL  2007-11-29T00:00:00       554   \n",
       "\n",
       "                                            geometry rw_type_name  \n",
       "1  LINESTRING (1047146.080 222733.432, 1047385.93...       Street  \n",
       "2  LINESTRING (1009926.638 269075.549, 1010033.71...       Street  \n",
       "3  LINESTRING (989292.818 189689.736, 989648.842 ...       Street  \n",
       "4  LINESTRING (1031371.427 199453.863, 1031412.58...       Street  \n",
       "5  LINESTRING (940277.458 144141.538, 940027.193 ...       Street  "
      ]
     },
     "execution_count": 22,
     "metadata": {},
     "output_type": "execute_result"
    }
   ],
   "source": [
    "streets_clipped.iloc[:, 15:].head()"
   ]
  },
  {
   "cell_type": "code",
   "execution_count": 23,
   "metadata": {},
   "outputs": [],
   "source": [
    "streets_clipped = streets_clipped[['physicalid', \n",
    "                                   'st_label',\n",
    "                                   'st_name',\n",
    "                                   'full_stree',\n",
    "                                   'rw_type', \n",
    "                                   'rw_type_name',  \n",
    "                                   'st_width',\n",
    "                                   'frm_lvl_co', \n",
    "                                   'to_lvl_co', \n",
    "                                   'borocode', \n",
    "                                   'shape_leng',\n",
    "                                   'geometry']]"
   ]
  },
  {
   "cell_type": "code",
   "execution_count": 24,
   "metadata": {},
   "outputs": [
    {
     "data": {
      "text/html": [
       "<div>\n",
       "<style scoped>\n",
       "    .dataframe tbody tr th:only-of-type {\n",
       "        vertical-align: middle;\n",
       "    }\n",
       "\n",
       "    .dataframe tbody tr th {\n",
       "        vertical-align: top;\n",
       "    }\n",
       "\n",
       "    .dataframe thead th {\n",
       "        text-align: right;\n",
       "    }\n",
       "</style>\n",
       "<table border=\"1\" class=\"dataframe\">\n",
       "  <thead>\n",
       "    <tr style=\"text-align: right;\">\n",
       "      <th></th>\n",
       "      <th>physicalid</th>\n",
       "      <th>st_label</th>\n",
       "      <th>st_name</th>\n",
       "      <th>full_stree</th>\n",
       "      <th>rw_type</th>\n",
       "      <th>rw_type_name</th>\n",
       "      <th>st_width</th>\n",
       "      <th>frm_lvl_co</th>\n",
       "      <th>to_lvl_co</th>\n",
       "      <th>borocode</th>\n",
       "      <th>shape_leng</th>\n",
       "      <th>geometry</th>\n",
       "    </tr>\n",
       "  </thead>\n",
       "  <tbody>\n",
       "    <tr>\n",
       "      <th>1</th>\n",
       "      <td>6110</td>\n",
       "      <td>28 AVE</td>\n",
       "      <td>28</td>\n",
       "      <td>28 AVE</td>\n",
       "      <td>1</td>\n",
       "      <td>Street</td>\n",
       "      <td>35</td>\n",
       "      <td>13</td>\n",
       "      <td>13</td>\n",
       "      <td>4</td>\n",
       "      <td>258.859740425</td>\n",
       "      <td>LINESTRING (1047146.080 222733.432, 1047385.93...</td>\n",
       "    </tr>\n",
       "    <tr>\n",
       "      <th>2</th>\n",
       "      <td>61140</td>\n",
       "      <td>ARLINGTON AVE</td>\n",
       "      <td>ARLINGTON</td>\n",
       "      <td>ARLINGTON AVE</td>\n",
       "      <td>1</td>\n",
       "      <td>Street</td>\n",
       "      <td>42</td>\n",
       "      <td>13</td>\n",
       "      <td>13</td>\n",
       "      <td>2</td>\n",
       "      <td>454.932921708</td>\n",
       "      <td>LINESTRING (1009926.638 269075.549, 1010033.71...</td>\n",
       "    </tr>\n",
       "    <tr>\n",
       "      <th>3</th>\n",
       "      <td>145494</td>\n",
       "      <td>SCHERMERHORN ST</td>\n",
       "      <td>SCHERMERHORN</td>\n",
       "      <td>SCHERMERHORN ST</td>\n",
       "      <td>1</td>\n",
       "      <td>Street</td>\n",
       "      <td>50</td>\n",
       "      <td>13</td>\n",
       "      <td>13</td>\n",
       "      <td>3</td>\n",
       "      <td>609.424374552</td>\n",
       "      <td>LINESTRING (989292.818 189689.736, 989648.842 ...</td>\n",
       "    </tr>\n",
       "    <tr>\n",
       "      <th>4</th>\n",
       "      <td>12438</td>\n",
       "      <td>QUEENS BLVD</td>\n",
       "      <td>QUEENS</td>\n",
       "      <td>QUEENS BLVD</td>\n",
       "      <td>1</td>\n",
       "      <td>Street</td>\n",
       "      <td>40</td>\n",
       "      <td>13</td>\n",
       "      <td>13</td>\n",
       "      <td>4</td>\n",
       "      <td>47.3992280891</td>\n",
       "      <td>LINESTRING (1031371.427 199453.863, 1031412.58...</td>\n",
       "    </tr>\n",
       "    <tr>\n",
       "      <th>5</th>\n",
       "      <td>15432</td>\n",
       "      <td>ARTHUR KILL RD</td>\n",
       "      <td>ARTHUR KIL</td>\n",
       "      <td>ARTHUR KIL RD</td>\n",
       "      <td>1</td>\n",
       "      <td>Street</td>\n",
       "      <td>36</td>\n",
       "      <td>13</td>\n",
       "      <td>13</td>\n",
       "      <td>5</td>\n",
       "      <td>268.22875069</td>\n",
       "      <td>LINESTRING (940277.458 144141.538, 940027.193 ...</td>\n",
       "    </tr>\n",
       "  </tbody>\n",
       "</table>\n",
       "</div>"
      ],
      "text/plain": [
       "  physicalid         st_label       st_name       full_stree rw_type  \\\n",
       "1       6110           28 AVE            28           28 AVE       1   \n",
       "2      61140    ARLINGTON AVE     ARLINGTON    ARLINGTON AVE       1   \n",
       "3     145494  SCHERMERHORN ST  SCHERMERHORN  SCHERMERHORN ST       1   \n",
       "4      12438      QUEENS BLVD        QUEENS      QUEENS BLVD       1   \n",
       "5      15432   ARTHUR KILL RD    ARTHUR KIL    ARTHUR KIL RD       1   \n",
       "\n",
       "  rw_type_name st_width frm_lvl_co to_lvl_co borocode     shape_leng  \\\n",
       "1       Street       35         13        13        4  258.859740425   \n",
       "2       Street       42         13        13        2  454.932921708   \n",
       "3       Street       50         13        13        3  609.424374552   \n",
       "4       Street       40         13        13        4  47.3992280891   \n",
       "5       Street       36         13        13        5   268.22875069   \n",
       "\n",
       "                                            geometry  \n",
       "1  LINESTRING (1047146.080 222733.432, 1047385.93...  \n",
       "2  LINESTRING (1009926.638 269075.549, 1010033.71...  \n",
       "3  LINESTRING (989292.818 189689.736, 989648.842 ...  \n",
       "4  LINESTRING (1031371.427 199453.863, 1031412.58...  \n",
       "5  LINESTRING (940277.458 144141.538, 940027.193 ...  "
      ]
     },
     "execution_count": 24,
     "metadata": {},
     "output_type": "execute_result"
    }
   ],
   "source": [
    "streets_clipped.head()"
   ]
  },
  {
   "cell_type": "code",
   "execution_count": 30,
   "metadata": {},
   "outputs": [],
   "source": [
    "streets_clipped['shape_leng'] = streets_clipped.length"
   ]
  },
  {
   "cell_type": "code",
   "execution_count": 32,
   "metadata": {},
   "outputs": [
    {
     "data": {
      "text/html": [
       "<div>\n",
       "<style scoped>\n",
       "    .dataframe tbody tr th:only-of-type {\n",
       "        vertical-align: middle;\n",
       "    }\n",
       "\n",
       "    .dataframe tbody tr th {\n",
       "        vertical-align: top;\n",
       "    }\n",
       "\n",
       "    .dataframe thead th {\n",
       "        text-align: right;\n",
       "    }\n",
       "</style>\n",
       "<table border=\"1\" class=\"dataframe\">\n",
       "  <thead>\n",
       "    <tr style=\"text-align: right;\">\n",
       "      <th></th>\n",
       "      <th>shape_leng</th>\n",
       "    </tr>\n",
       "  </thead>\n",
       "  <tbody>\n",
       "    <tr>\n",
       "      <th>1</th>\n",
       "      <td>258.859740</td>\n",
       "    </tr>\n",
       "    <tr>\n",
       "      <th>2</th>\n",
       "      <td>454.932922</td>\n",
       "    </tr>\n",
       "    <tr>\n",
       "      <th>3</th>\n",
       "      <td>609.424375</td>\n",
       "    </tr>\n",
       "    <tr>\n",
       "      <th>4</th>\n",
       "      <td>47.399228</td>\n",
       "    </tr>\n",
       "    <tr>\n",
       "      <th>5</th>\n",
       "      <td>268.228751</td>\n",
       "    </tr>\n",
       "  </tbody>\n",
       "</table>\n",
       "</div>"
      ],
      "text/plain": [
       "   shape_leng\n",
       "1  258.859740\n",
       "2  454.932922\n",
       "3  609.424375\n",
       "4   47.399228\n",
       "5  268.228751"
      ]
     },
     "execution_count": 32,
     "metadata": {},
     "output_type": "execute_result"
    }
   ],
   "source": [
    "streets_clipped[['shape_leng']].head()"
   ]
  },
  {
   "cell_type": "code",
   "execution_count": 45,
   "metadata": {},
   "outputs": [
    {
     "data": {
      "text/html": [
       "<div>\n",
       "<style scoped>\n",
       "    .dataframe tbody tr th:only-of-type {\n",
       "        vertical-align: middle;\n",
       "    }\n",
       "\n",
       "    .dataframe tbody tr th {\n",
       "        vertical-align: top;\n",
       "    }\n",
       "\n",
       "    .dataframe thead th {\n",
       "        text-align: right;\n",
       "    }\n",
       "</style>\n",
       "<table border=\"1\" class=\"dataframe\">\n",
       "  <thead>\n",
       "    <tr style=\"text-align: right;\">\n",
       "      <th></th>\n",
       "      <th>shape_leng</th>\n",
       "    </tr>\n",
       "  </thead>\n",
       "  <tbody>\n",
       "    <tr>\n",
       "      <th>count</th>\n",
       "      <td>9.937300e+04</td>\n",
       "    </tr>\n",
       "    <tr>\n",
       "      <th>mean</th>\n",
       "      <td>3.430782e+02</td>\n",
       "    </tr>\n",
       "    <tr>\n",
       "      <th>std</th>\n",
       "      <td>2.619601e+02</td>\n",
       "    </tr>\n",
       "    <tr>\n",
       "      <th>min</th>\n",
       "      <td>1.068681e-08</td>\n",
       "    </tr>\n",
       "    <tr>\n",
       "      <th>25%</th>\n",
       "      <td>1.953033e+02</td>\n",
       "    </tr>\n",
       "    <tr>\n",
       "      <th>50%</th>\n",
       "      <td>2.648316e+02</td>\n",
       "    </tr>\n",
       "    <tr>\n",
       "      <th>75%</th>\n",
       "      <td>4.583296e+02</td>\n",
       "    </tr>\n",
       "    <tr>\n",
       "      <th>max</th>\n",
       "      <td>1.509366e+04</td>\n",
       "    </tr>\n",
       "  </tbody>\n",
       "</table>\n",
       "</div>"
      ],
      "text/plain": [
       "         shape_leng\n",
       "count  9.937300e+04\n",
       "mean   3.430782e+02\n",
       "std    2.619601e+02\n",
       "min    1.068681e-08\n",
       "25%    1.953033e+02\n",
       "50%    2.648316e+02\n",
       "75%    4.583296e+02\n",
       "max    1.509366e+04"
      ]
     },
     "execution_count": 45,
     "metadata": {},
     "output_type": "execute_result"
    }
   ],
   "source": [
    "streets_clipped[['shape_leng']].describe()"
   ]
  },
  {
   "cell_type": "code",
   "execution_count": 46,
   "metadata": {},
   "outputs": [
    {
     "data": {
      "text/plain": [
       "array([[<AxesSubplot:title={'center':'shape_leng'}>]], dtype=object)"
      ]
     },
     "execution_count": 46,
     "metadata": {},
     "output_type": "execute_result"
    },
    {
     "data": {
      "image/png": "[encoded data removed]",
      "text/plain": [
       "<Figure size 432x288 with 1 Axes>"
      ]
     },
     "metadata": {
      "needs_background": "light"
     },
     "output_type": "display_data"
    }
   ],
   "source": [
    "streets_clipped[['shape_leng']].hist(bins=50)"
   ]
  },
  {
   "cell_type": "code",
   "execution_count": 47,
   "metadata": {},
   "outputs": [
    {
     "data": {
      "text/plain": [
       "<AxesSubplot:>"
      ]
     },
     "execution_count": 47,
     "metadata": {},
     "output_type": "execute_result"
    },
    {
     "data": {
      "image/png": "[encoded data removed]",
      "text/plain": [
       "<Figure size 432x288 with 1 Axes>"
      ]
     },
     "metadata": {
      "needs_background": "light"
     },
     "output_type": "display_data"
    }
   ],
   "source": [
    "streets_clipped[['shape_leng']].plot.box()"
   ]
  },
  {
   "cell_type": "code",
   "execution_count": 48,
   "metadata": {},
   "outputs": [
    {
     "name": "stdout",
     "output_type": "stream",
     "text": [
      "<class 'geopandas.geodataframe.GeoDataFrame'>\n",
      "Int64Index: 99373 entries, 1 to 120036\n",
      "Data columns (total 12 columns):\n",
      " #   Column        Non-Null Count  Dtype   \n",
      "---  ------        --------------  -----   \n",
      " 0   physicalid    99373 non-null  object  \n",
      " 1   st_label      99373 non-null  object  \n",
      " 2   st_name       99373 non-null  object  \n",
      " 3   full_stree    99373 non-null  object  \n",
      " 4   rw_type       99373 non-null  object  \n",
      " 5   rw_type_name  99373 non-null  object  \n",
      " 6   st_width      99373 non-null  object  \n",
      " 7   frm_lvl_co    99373 non-null  object  \n",
      " 8   to_lvl_co     99373 non-null  object  \n",
      " 9   borocode      99373 non-null  object  \n",
      " 10  shape_leng    99373 non-null  float64 \n",
      " 11  geometry      99373 non-null  geometry\n",
      "dtypes: float64(1), geometry(1), object(10)\n",
      "memory usage: 9.9+ MB\n"
     ]
    }
   ],
   "source": [
    "streets_clipped.info()"
   ]
  },
  {
   "cell_type": "code",
   "execution_count": 49,
   "metadata": {},
   "outputs": [
    {
     "data": {
      "text/plain": [
       "(99373, 12)"
      ]
     },
     "execution_count": 49,
     "metadata": {},
     "output_type": "execute_result"
    }
   ],
   "source": [
    "streets_clipped.shape"
   ]
  },
  {
   "cell_type": "code",
   "execution_count": 50,
   "metadata": {},
   "outputs": [],
   "source": [
    "streets_clipped.to_file(\"../data-raw/raw_streets_clipped.json\", driver=\"GeoJSON\")"
   ]
  },
  {
   "cell_type": "code",
   "execution_count": 51,
   "metadata": {},
   "outputs": [
    {
     "name": "stdout",
     "output_type": "stream",
     "text": [
      "(99373, 12)\n"
     ]
    },
    {
     "data": {
      "text/html": [
       "<div>\n",
       "<style scoped>\n",
       "    .dataframe tbody tr th:only-of-type {\n",
       "        vertical-align: middle;\n",
       "    }\n",
       "\n",
       "    .dataframe tbody tr th {\n",
       "        vertical-align: top;\n",
       "    }\n",
       "\n",
       "    .dataframe thead th {\n",
       "        text-align: right;\n",
       "    }\n",
       "</style>\n",
       "<table border=\"1\" class=\"dataframe\">\n",
       "  <thead>\n",
       "    <tr style=\"text-align: right;\">\n",
       "      <th></th>\n",
       "      <th>physicalid</th>\n",
       "      <th>st_label</th>\n",
       "      <th>st_name</th>\n",
       "      <th>full_stree</th>\n",
       "      <th>rw_type</th>\n",
       "      <th>rw_type_name</th>\n",
       "      <th>st_width</th>\n",
       "      <th>frm_lvl_co</th>\n",
       "      <th>to_lvl_co</th>\n",
       "      <th>borocode</th>\n",
       "      <th>shape_leng</th>\n",
       "      <th>geometry</th>\n",
       "    </tr>\n",
       "  </thead>\n",
       "  <tbody>\n",
       "    <tr>\n",
       "      <th>0</th>\n",
       "      <td>6110</td>\n",
       "      <td>28 AVE</td>\n",
       "      <td>28</td>\n",
       "      <td>28 AVE</td>\n",
       "      <td>1</td>\n",
       "      <td>Street</td>\n",
       "      <td>35</td>\n",
       "      <td>13</td>\n",
       "      <td>13</td>\n",
       "      <td>4</td>\n",
       "      <td>258.859740</td>\n",
       "      <td>LINESTRING (1047146.080 222733.432, 1047385.93...</td>\n",
       "    </tr>\n",
       "    <tr>\n",
       "      <th>1</th>\n",
       "      <td>61140</td>\n",
       "      <td>ARLINGTON AVE</td>\n",
       "      <td>ARLINGTON</td>\n",
       "      <td>ARLINGTON AVE</td>\n",
       "      <td>1</td>\n",
       "      <td>Street</td>\n",
       "      <td>42</td>\n",
       "      <td>13</td>\n",
       "      <td>13</td>\n",
       "      <td>2</td>\n",
       "      <td>454.932922</td>\n",
       "      <td>LINESTRING (1009926.638 269075.549, 1010033.71...</td>\n",
       "    </tr>\n",
       "    <tr>\n",
       "      <th>2</th>\n",
       "      <td>145494</td>\n",
       "      <td>SCHERMERHORN ST</td>\n",
       "      <td>SCHERMERHORN</td>\n",
       "      <td>SCHERMERHORN ST</td>\n",
       "      <td>1</td>\n",
       "      <td>Street</td>\n",
       "      <td>50</td>\n",
       "      <td>13</td>\n",
       "      <td>13</td>\n",
       "      <td>3</td>\n",
       "      <td>609.424375</td>\n",
       "      <td>LINESTRING (989292.818 189689.736, 989648.842 ...</td>\n",
       "    </tr>\n",
       "    <tr>\n",
       "      <th>3</th>\n",
       "      <td>12438</td>\n",
       "      <td>QUEENS BLVD</td>\n",
       "      <td>QUEENS</td>\n",
       "      <td>QUEENS BLVD</td>\n",
       "      <td>1</td>\n",
       "      <td>Street</td>\n",
       "      <td>40</td>\n",
       "      <td>13</td>\n",
       "      <td>13</td>\n",
       "      <td>4</td>\n",
       "      <td>47.399228</td>\n",
       "      <td>LINESTRING (1031371.427 199453.863, 1031412.58...</td>\n",
       "    </tr>\n",
       "    <tr>\n",
       "      <th>4</th>\n",
       "      <td>15432</td>\n",
       "      <td>ARTHUR KILL RD</td>\n",
       "      <td>ARTHUR KIL</td>\n",
       "      <td>ARTHUR KIL RD</td>\n",
       "      <td>1</td>\n",
       "      <td>Street</td>\n",
       "      <td>36</td>\n",
       "      <td>13</td>\n",
       "      <td>13</td>\n",
       "      <td>5</td>\n",
       "      <td>268.228751</td>\n",
       "      <td>LINESTRING (940277.458 144141.538, 940027.193 ...</td>\n",
       "    </tr>\n",
       "  </tbody>\n",
       "</table>\n",
       "</div>"
      ],
      "text/plain": [
       "  physicalid         st_label       st_name       full_stree rw_type  \\\n",
       "0       6110           28 AVE            28           28 AVE       1   \n",
       "1      61140    ARLINGTON AVE     ARLINGTON    ARLINGTON AVE       1   \n",
       "2     145494  SCHERMERHORN ST  SCHERMERHORN  SCHERMERHORN ST       1   \n",
       "3      12438      QUEENS BLVD        QUEENS      QUEENS BLVD       1   \n",
       "4      15432   ARTHUR KILL RD    ARTHUR KIL    ARTHUR KIL RD       1   \n",
       "\n",
       "  rw_type_name st_width frm_lvl_co to_lvl_co borocode  shape_leng  \\\n",
       "0       Street       35         13        13        4  258.859740   \n",
       "1       Street       42         13        13        2  454.932922   \n",
       "2       Street       50         13        13        3  609.424375   \n",
       "3       Street       40         13        13        4   47.399228   \n",
       "4       Street       36         13        13        5  268.228751   \n",
       "\n",
       "                                            geometry  \n",
       "0  LINESTRING (1047146.080 222733.432, 1047385.93...  \n",
       "1  LINESTRING (1009926.638 269075.549, 1010033.71...  \n",
       "2  LINESTRING (989292.818 189689.736, 989648.842 ...  \n",
       "3  LINESTRING (1031371.427 199453.863, 1031412.58...  \n",
       "4  LINESTRING (940277.458 144141.538, 940027.193 ...  "
      ]
     },
     "execution_count": 51,
     "metadata": {},
     "output_type": "execute_result"
    }
   ],
   "source": [
    "path = '../data-raw/raw_streets_clipped.json'\n",
    "streets = gpd.read_file(path)\n",
    "\n",
    "print(streets.shape)\n",
    "streets.head()"
   ]
  },
  {
   "cell_type": "code",
   "execution_count": null,
   "metadata": {},
   "outputs": [],
   "source": []
  }
 ],
 "metadata": {
  "kernelspec": {
   "display_name": "Python 3",
   "language": "python",
   "name": "python3"
  },
  "language_info": {
   "codemirror_mode": {
    "name": "ipython",
    "version": 3
   },
   "file_extension": ".py",
   "mimetype": "text/x-python",
   "name": "python",
   "nbconvert_exporter": "python",
   "pygments_lexer": "ipython3",
   "version": "3.7.1"
  }
 },
 "nbformat": 4,
 "nbformat_minor": 4
}
